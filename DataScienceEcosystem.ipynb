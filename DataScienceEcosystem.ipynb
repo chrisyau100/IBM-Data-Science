{
 "cells": [
  {
   "cell_type": "markdown",
   "id": "d1d7e6e9-5144-4f1f-8bde-623799d24120",
   "metadata": {},
   "source": [
    "# Data Science Tools and Ecosystem"
   ]
  },
  {
   "cell_type": "markdown",
   "id": "63ddd6bf-b837-47d3-8219-a6a0c1658b2e",
   "metadata": {},
   "source": [
    "In this notebook, Data Science Tools and Ecosystem are summarized."
   ]
  },
  {
   "cell_type": "markdown",
   "id": "207250f3-29e6-430c-98c2-3c458e084bf2",
   "metadata": {},
   "source": [
    "**Objectives:**\n",
    "* List popular languages for data science\n",
    "* Give an intro to math on python\n",
    "* Introudce libaries on python"
   ]
  },
  {
   "cell_type": "markdown",
   "id": "f13f9040-39e0-4fe4-897a-ae874c424151",
   "metadata": {
    "tags": []
   },
   "source": [
    "Some of the popular languages that Data Scientists use are:\n",
    "    \n",
    "1. Python\n",
    "2. R\n",
    "3. C++"
   ]
  },
  {
   "cell_type": "markdown",
   "id": "e4711fe6-0aea-4c82-81ce-d1d18514f978",
   "metadata": {},
   "source": [
    "Some of the commonly used libraries used by Data Scientists include:\n",
    "    \n",
    "1. Pandas\n",
    "2. Numpy\n",
    "3. Plotly"
   ]
  },
  {
   "cell_type": "markdown",
   "id": "47162ef4-84c5-4962-be98-a3d042415b58",
   "metadata": {},
   "source": [
    "| Data Science Tools      |\n",
    "| ----------- |\n",
    "| Hadoop      |\n",
    "| Spark   |\n",
    "| MLFlow   |"
   ]
  },
  {
   "cell_type": "markdown",
   "id": "6c024759-668a-4fee-9e04-49468b8f156a",
   "metadata": {},
   "source": [
    "### Below are a few examples of evaluating arithmetic expressions in Python"
   ]
  },
  {
   "cell_type": "code",
   "execution_count": 4,
   "id": "41a40897-abde-4ad9-b6c8-7f14f2b76857",
   "metadata": {
    "tags": []
   },
   "outputs": [
    {
     "data": {
      "text/plain": [
       "17"
      ]
     },
     "execution_count": 4,
     "metadata": {},
     "output_type": "execute_result"
    }
   ],
   "source": [
    "(3*4)+5"
   ]
  },
  {
   "cell_type": "code",
   "execution_count": 11,
   "id": "31997693-7a32-47f3-b3a5-1770a5f2b326",
   "metadata": {
    "tags": []
   },
   "outputs": [
    {
     "data": {
      "text/plain": [
       "3.3333333333333335"
      ]
     },
     "execution_count": 11,
     "metadata": {},
     "output_type": "execute_result"
    }
   ],
   "source": [
    "#This will covert 200 miin to hours by dividing by 60.\n",
    "200/60"
   ]
  },
  {
   "cell_type": "markdown",
   "id": "c0d59304-bbd1-4017-858e-b2d878577cfd",
   "metadata": {
    "tags": []
   },
   "source": [
    "## Author: \n",
    "Chris Yau"
   ]
  },
  {
   "cell_type": "code",
   "execution_count": null,
   "id": "b38c81b8-bbf1-4a30-8696-a71903ddaaa6",
   "metadata": {},
   "outputs": [],
   "source": []
  }
 ],
 "metadata": {
  "kernelspec": {
   "display_name": "Python",
   "language": "python",
   "name": "conda-env-python-py"
  },
  "language_info": {
   "codemirror_mode": {
    "name": "ipython",
    "version": 3
   },
   "file_extension": ".py",
   "mimetype": "text/x-python",
   "name": "python",
   "nbconvert_exporter": "python",
   "pygments_lexer": "ipython3",
   "version": "3.7.12"
  }
 },
 "nbformat": 4,
 "nbformat_minor": 5
}
